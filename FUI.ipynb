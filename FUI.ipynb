{
  "cells": [
    {
      "cell_type": "markdown",
      "metadata": {
        "id": "view-in-github",
        "colab_type": "text"
      },
      "source": [
        "<a href=\"https://colab.research.google.com/github/BarrenWardo/Py-Books/blob/main/FUI.ipynb\" target=\"_parent\"><img src=\"https://colab.research.google.com/assets/colab-badge.svg\" alt=\"Open In Colab\"/></a>"
      ]
    },
    {
      "cell_type": "code",
      "execution_count": null,
      "metadata": {
        "id": "lIYdn1woOS1n"
      },
      "outputs": [],
      "source": [
        "!git clone https://github.com/BarrenWardo/FUI.git\n",
        "%cd FUI\n",
        "!pip install insightface\n",
        "!pip install -r requirements.txt"
      ]
    },
    {
      "cell_type": "code",
      "source": [
        "%cd extensions\n",
        "!git clone https://github.com/etherealxx/batchlinks-webui\n",
        "%cd -"
      ],
      "metadata": {
        "id": "eqkZiR1kqxzk"
      },
      "execution_count": null,
      "outputs": []
    },
    {
      "cell_type": "code",
      "source": [
        "!python launch.py --share --show-controlnet-example --enable-insecure-extension-access --update-all-extensions --no-progressbar-hiding --allow-code --listen --api --administrator --log-startup \\\n",
        "  --xformers #Optional - Remove this line if error while loading the WebUI"
      ],
      "metadata": {
        "id": "MjL0iqW7hzG0"
      },
      "execution_count": null,
      "outputs": []
    }
  ],
  "metadata": {
    "colab": {
      "provenance": [],
      "gpuType": "T4",
      "include_colab_link": true
    },
    "kernelspec": {
      "display_name": "Python 3",
      "name": "python3"
    },
    "accelerator": "GPU"
  },
  "nbformat": 4,
  "nbformat_minor": 0
}
