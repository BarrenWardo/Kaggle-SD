{
 "cells": [
  {
   "cell_type": "code",
   "execution_count": null,
   "id": "6047a212-8145-4b1f-86a6-6f1789d6fb53",
   "metadata": {},
   "outputs": [],
   "source": [
    "!apt-get update"
   ]
  },
  {
   "cell_type": "code",
   "execution_count": null,
   "id": "be398867-dd75-49b1-8925-b6ad2344ecad",
   "metadata": {},
   "outputs": [],
   "source": [
    "!DEBIAN_FRONTEND=noninteractive apt-get install -y --no-install-recommends libgl1 libglib2.0-0 wget git-all"
   ]
  },
  {
   "cell_type": "code",
   "execution_count": null,
   "id": "7598805c-f044-44d4-8eed-1aef2a9d1825",
   "metadata": {
    "scrolled": true
   },
   "outputs": [],
   "source": [
    "!wget https://github.com/cloudflare/cloudflared/releases/latest/download/cloudflared-linux-amd64.deb\n",
    "!dpkg -i cloudflared-linux-amd64.deb"
   ]
  },
  {
   "cell_type": "code",
   "execution_count": null,
   "id": "797205cf-5428-4d7c-98ee-b61a98bd193e",
   "metadata": {},
   "outputs": [],
   "source": [
    "!git clone https://github.com/BarrenWardo/FUI"
   ]
  },
  {
   "cell_type": "code",
   "execution_count": null,
   "id": "eab62c7a-9a20-458d-a6b4-93d7f9fc5583",
   "metadata": {},
   "outputs": [],
   "source": [
    "%cd FUI"
   ]
  },
  {
   "cell_type": "code",
   "execution_count": null,
   "id": "21853eb4-32fd-49a3-b1bb-35ad87c2c684",
   "metadata": {
    "scrolled": true
   },
   "outputs": [],
   "source": [
    "!pip install -r requirements.txt"
   ]
  },
  {
   "cell_type": "code",
   "execution_count": null,
   "id": "dae67882-e088-4c4f-9ce2-53f29d7ac138",
   "metadata": {
    "editable": true,
    "slideshow": {
     "slide_type": ""
    },
    "tags": [
     "Launcher"
    ]
   },
   "outputs": [],
   "source": [
    "!cloudflared tunnel --url http://localhost:7860 & python launch.py"
   ]
  }
 ],
 "metadata": {
  "kernelspec": {
   "display_name": "Python 3 (ipykernel)",
   "language": "python",
   "name": "python3"
  },
  "language_info": {
   "codemirror_mode": {
    "name": "ipython",
    "version": 3
   },
   "file_extension": ".py",
   "mimetype": "text/x-python",
   "name": "python",
   "nbconvert_exporter": "python",
   "pygments_lexer": "ipython3",
   "version": "3.11.5"
  }
 },
 "nbformat": 4,
 "nbformat_minor": 5
}
