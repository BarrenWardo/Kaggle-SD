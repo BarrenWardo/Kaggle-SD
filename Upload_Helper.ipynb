{
  "nbformat": 4,
  "nbformat_minor": 0,
  "metadata": {
    "colab": {
      "private_outputs": true,
      "provenance": [],
      "authorship_tag": "ABX9TyN5Xy/SwufGW9ZaNLlmGu2b",
      "include_colab_link": true
    },
    "kernelspec": {
      "name": "python3",
      "display_name": "Python 3"
    },
    "language_info": {
      "name": "python"
    }
  },
  "cells": [
    {
      "cell_type": "markdown",
      "metadata": {
        "id": "view-in-github",
        "colab_type": "text"
      },
      "source": [
        "<a href=\"https://colab.research.google.com/github/BarrenWardo/Py-Books/blob/main/Upload_Helper.ipynb\" target=\"_parent\"><img src=\"https://colab.research.google.com/assets/colab-badge.svg\" alt=\"Open In Colab\"/></a>"
      ]
    },
    {
      "cell_type": "markdown",
      "source": [
        "# Upload Helper"
      ],
      "metadata": {
        "id": "5S8rgE7QOa8d"
      }
    },
    {
      "cell_type": "code",
      "execution_count": null,
      "metadata": {
        "cellView": "form",
        "id": "i0oVCZkaF_bl"
      },
      "outputs": [],
      "source": [
        "# @title Setup\n",
        "\n",
        "!pip install requests\n",
        "!apt update\n",
        "!apt install aria2 -y\n",
        "\n",
        "# @markdown GoFile Servers List - [Click Here](https://api.gofile.io/servers) \\\n",
        "# @markdown GoFile Auth Token - [Click Here](https://gofile.io/myprofile) \\\n",
        "# @markdown Pixeldrain API Key - [Click Here](https://pixeldrain.com/user/api_keys) \\\n",
        "# @markdown upload_server : ```0 - Both``` | ```1 - GoFile``` | ```2 - Pixeldrain```"
      ]
    },
    {
      "cell_type": "code",
      "source": [
        "# @title Downloader\n",
        "\n",
        "URL = \"\" # @param {type:\"string\", placeholder:\"Download URL\"}\n",
        "\n",
        "!aria2c \"$URL\" -x16 --summary-interval=10 --seed-time=60"
      ],
      "metadata": {
        "cellView": "form",
        "id": "VNupS-TDMnp0"
      },
      "execution_count": null,
      "outputs": []
    },
    {
      "cell_type": "code",
      "source": [
        "# @title Uploader\n",
        "\n",
        "import os\n",
        "import requests\n",
        "import time\n",
        "\n",
        "# User-defined variables\n",
        "upload_server = 1 # @param [0,1,2] {type:\"raw\"}\n",
        "file_path = \"\" # @param {type:\"string\", placeholder:\"File/path/here.txt\"}\n",
        "delete_after_upload = True  # @param {type:\"boolean\"}\n",
        "gofile_server = \"\"  # @param {type:\"string\", placeholder:\"store5\"}\n",
        "gofile_auth_token = \"\" # @param {type:\"string\", placeholder:\"gofile_auth_token\"}\n",
        "pixeldrain_auth_token = \"\"  # @param {type:\"string\", placeholder:\"pixeldrain_api_key\"}\n",
        "\n",
        "# Ensure the file exists\n",
        "if not os.path.exists(file_path):\n",
        "    raise FileNotFoundError(f\"The file '{file_path}' does not exist.\")\n",
        "\n",
        "# Get file size\n",
        "file_size = os.path.getsize(file_path)\n",
        "\n",
        "# Helper function for progress tracking\n",
        "def upload_with_progress(file_path, url, headers=None, auth=None):\n",
        "    with open(file_path, \"rb\") as file:\n",
        "        chunk_size = 8192  # 8 KB\n",
        "        uploaded_size = 0\n",
        "        start_time = time.time()\n",
        "\n",
        "        def progress_callback(chunk):\n",
        "            nonlocal uploaded_size\n",
        "            uploaded_size += len(chunk)\n",
        "            elapsed_time = time.time() - start_time\n",
        "            speed = uploaded_size / elapsed_time if elapsed_time > 0 else 0\n",
        "            remaining_time = (file_size - uploaded_size) / speed if speed > 0 else float('inf')\n",
        "\n",
        "            progress_percentage = (uploaded_size / file_size) * 100\n",
        "            print(f\"Uploaded: {uploaded_size / (1024 * 1024):.2f} MB / {file_size / (1024 * 1024):.2f} MB ({progress_percentage:.2f}%) | Speed: {speed / (1024 * 1024):.2f} MB/s | Remaining Time: {remaining_time:.2f} s\", end=\"\\r\")\n",
        "\n",
        "        class FileWithProgress:\n",
        "            def __init__(self, file):\n",
        "                self.file = file\n",
        "\n",
        "            def read(self, size=None):\n",
        "                chunk = self.file.read(size)\n",
        "                if chunk:\n",
        "                    progress_callback(chunk)\n",
        "                return chunk\n",
        "\n",
        "            def __getattr__(self, attr):\n",
        "                return getattr(self.file, attr)\n",
        "\n",
        "        files = FileWithProgress(file)\n",
        "\n",
        "        if headers:\n",
        "            response = requests.post(url, headers=headers, files={\"file\": (os.path.basename(file_path), files)})\n",
        "        elif auth:\n",
        "            headers = {\"Content-Type\": \"application/octet-stream\"}\n",
        "            response = requests.put(url, data=files, headers=headers, auth=auth)\n",
        "        else:\n",
        "            raise ValueError(\"Either headers or auth must be provided.\")\n",
        "\n",
        "        print(\"\\nUpload complete.\")\n",
        "        return response\n",
        "\n",
        "# Upload to GoFile\n",
        "if upload_server in (0, 1):\n",
        "    try:\n",
        "        print(\"Uploading to GoFile...\")\n",
        "        headers = {\n",
        "            \"Authorization\": f\"Bearer {gofile_auth_token}\"\n",
        "        }\n",
        "        upload_url = f\"https://{gofile_server}.gofile.io/contents/uploadfile\"\n",
        "\n",
        "        response = upload_with_progress(file_path, upload_url, headers=headers)\n",
        "        response_data = response.json()\n",
        "\n",
        "        if response.status_code == 200 and response_data.get(\"status\") == \"ok\":\n",
        "            download_page_url = response_data['data']['downloadPage']\n",
        "            print(f\"GoFile URL: {download_page_url}\")\n",
        "            print(\"Full Response:\", response_data)\n",
        "        else:\n",
        "            print(\"GoFile upload failed.\")\n",
        "            print(\"Full Response:\", response_data)\n",
        "    except Exception as e:\n",
        "        print(f\"An error occurred while uploading to GoFile: {e}\")\n",
        "\n",
        "# Upload to Pixeldrain\n",
        "if upload_server in (0, 2):\n",
        "    try:\n",
        "        print(\"\\nUploading to Pixeldrain...\")\n",
        "        file_name = os.path.basename(file_path)[:255]  # Limit the file name to 255 characters\n",
        "        upload_url = f\"https://pixeldrain.com/api/file/{file_name}\"\n",
        "        auth = (\"api\", pixeldrain_auth_token)  # HTTP Basic Authentication\n",
        "\n",
        "        response = upload_with_progress(file_path, upload_url, auth=auth)\n",
        "\n",
        "        if response.status_code == 201:\n",
        "            try:\n",
        "                response_data = response.json()\n",
        "                pixeldrain_url = f\"https://pixeldrain.com/u/{response_data['id']}\"\n",
        "                print(\"File uploaded successfully to Pixeldrain!\")\n",
        "                print(\"Pixeldrain URL:\", pixeldrain_url)\n",
        "                print(\"Full Response:\", response_data)\n",
        "            except ValueError:\n",
        "                print(\"Pixeldrain upload succeeded, but could not parse JSON response.\")\n",
        "                print(\"Response Content:\", response.text)\n",
        "        else:\n",
        "            print(f\"Pixeldrain upload failed with status code {response.status_code}.\")\n",
        "            print(\"Full Response:\", response.text)\n",
        "    except Exception as e:\n",
        "        print(f\"An error occurred while uploading to Pixeldrain: {e}\")\n",
        "\n",
        "# Optionally delete the file after upload\n",
        "if delete_after_upload:\n",
        "    os.remove(file_path)\n",
        "    print(f\"The file '{file_path}' has been deleted after upload.\")"
      ],
      "metadata": {
        "cellView": "form",
        "id": "9hR8BfQ3GSKw"
      },
      "execution_count": null,
      "outputs": []
    }
  ]
}