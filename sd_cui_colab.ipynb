{
  "metadata": {
    "accelerator": "GPU",
    "colab": {
      "provenance": [],
      "include_colab_link": true
    },
    "gpuClass": "standard",
    "kernelspec": {
      "name": "python3",
      "display_name": "Python 3",
      "language": "python"
    },
    "language_info": {
      "name": "python",
      "version": "3.10.12",
      "mimetype": "text/x-python",
      "codemirror_mode": {
        "name": "ipython",
        "version": 3
      },
      "pygments_lexer": "ipython3",
      "nbconvert_exporter": "python",
      "file_extension": ".py"
    }
  },
  "nbformat_minor": 0,
  "nbformat": 4,
  "cells": [
    {
      "cell_type": "markdown",
      "metadata": {
        "id": "view-in-github",
        "colab_type": "text"
      },
      "source": [
        "<a href=\"https://colab.research.google.com/github/BarrenWardo/Py-Books/blob/main/sd_cui_colab.ipynb\" target=\"_parent\"><img src=\"https://colab.research.google.com/assets/colab-badge.svg\" alt=\"Open In Colab\"/></a>"
      ]
    },
    {
      "cell_type": "code",
      "source": [
        "!git clone \"https://github.com/BarrenWardo/CUI\""
      ],
      "metadata": {
        "_uuid": "21e37f8a-1a66-4fa3-9db2-557b53a590cf",
        "_cell_guid": "6f8d8bf4-0528-4925-a7fa-28f06084f7b7",
        "jupyter": {
          "outputs_hidden": false
        },
        "_kg_hide-output": true,
        "execution": {
          "iopub.status.busy": "2023-12-27T12:35:58.665716Z",
          "iopub.execute_input": "2023-12-27T12:35:58.666101Z",
          "iopub.status.idle": "2023-12-27T12:36:00.463750Z",
          "shell.execute_reply.started": "2023-12-27T12:35:58.666068Z",
          "shell.execute_reply": "2023-12-27T12:36:00.462662Z"
        },
        "trusted": true,
        "id": "wZGJmOUvPhDZ"
      },
      "execution_count": null,
      "outputs": []
    },
    {
      "cell_type": "code",
      "source": [
        "%cd \"/content/CUI\"\n",
        "!sudo apt-get install aria2 -y\n",
        "!pip install -r requirements.txt\n",
        "!pip install pyngrok"
      ],
      "metadata": {
        "_uuid": "0b8f5e80-fe1d-4773-a949-9e22c82e2528",
        "_cell_guid": "2bb41279-60ad-4b20-951d-1b339b4189d7",
        "jupyter": {
          "outputs_hidden": false
        },
        "execution": {
          "iopub.status.busy": "2023-12-27T12:36:00.465826Z",
          "iopub.execute_input": "2023-12-27T12:36:00.466157Z",
          "iopub.status.idle": "2023-12-27T12:36:26.669870Z",
          "shell.execute_reply.started": "2023-12-27T12:36:00.466125Z",
          "shell.execute_reply": "2023-12-27T12:36:26.668821Z"
        },
        "trusted": true,
        "id": "gRZdWvuYPhDo"
      },
      "execution_count": null,
      "outputs": []
    },
    {
      "cell_type": "code",
      "source": [
        "%cd \"/content/CUI/custom_nodes\"\n",
        "!git clone \"https://github.com/ltdrdata/ComfyUI-Manager\"\n",
        "!git clone \"https://github.com/pythongosssss/ComfyUI-Custom-Scripts\"\n",
        "!git clone \"https://github.com/ssitu/ComfyUI_UltimateSDUpscale\" --recursive\n",
        "!git clone \"https://github.com/civitai/civitai_comfy_nodes\""
      ],
      "metadata": {
        "_uuid": "a155807b-b03f-4c7a-91e0-a186e0ef8755",
        "_cell_guid": "e906044a-2ba0-48f5-a6a8-32e0550022ab",
        "jupyter": {
          "outputs_hidden": false
        },
        "trusted": true,
        "id": "OZQjbJMFPhDp"
      },
      "execution_count": null,
      "outputs": []
    },
    {
      "cell_type": "code",
      "source": [
        "#Models Download\n",
        "\n",
        "!aria2c \"https://civitai.com/api/download/models/240840?type=Model&format=SafeTensor&size=full&fp=fp16\" -x16 -d \"/content/CUI/models/checkpoints\" --summary-interval=5 --file-allocation=none --keep-unfinished-download-result=false -c --download-result=full\n",
        "\n",
        "#4xUltraSharp\n",
        "!aria2c \"https://civitai.com/api/download/models/125843?type=Model&format=PickleTensor\" -d \"/content/CUI/models/upscale_models\" --summary-interval=5 --file-allocation=none --keep-unfinished-download-result=false -c --download-result=full\n",
        "#SDXL VAE\n",
        "!aria2c \"https://huggingface.co/stabilityai/sdxl-vae/resolve/main/sdxl_vae.safetensors?download=true\" -d \"/content/CUI/models/vae\" -o \"sdxl_vae.safetensors\" --summary-interval=5 --file-allocation=none --keep-unfinished-download-result=false -c --download-result=full\n",
        "#1.5 VAE\n",
        "!aria2c \"https://huggingface.co/stabilityai/sd-vae-ft-mse-original/resolve/main/vae-ft-mse-840000-ema-pruned.safetensors?download=true\" -d \"/content/CUI/models/vae\" -o \"vae-ft-mse-840000-ema-pruned.safetensors\" --summary-interval=5 --file-allocation=none --keep-unfinished-download-result=false -c --download-result=full\n",
        "\n",
        "#TEMPLATES - Remove # and replace download-link in aria2c code line\n",
        "#Checkpoints\n",
        "#!aria2c \"download-link\" -d \"/content/CUI/models/checkpoints\" --summary-interval=5 --file-allocation=none --keep-unfinished-download-result=false -c --download-result=full\n",
        "#ControlNet\n",
        "#!aria2c \"download-link\" -d \"/content/CUI/models/controlnet\" --summary-interval=5 --file-allocation=none --keep-unfinished-download-result=false -c --download-result=full\n",
        "#Embeddings / Textual Inversions\n",
        "#!aria2c \"download-link\" -d \"/content/CUI/models/embeddings\" --summary-interval=5 --file-allocation=none --keep-unfinished-download-result=false -c --download-result=full\n",
        "#LoRAs\n",
        "#!aria2c \"download-link\" -d \"/content/CUI/models/loras\" --summary-interval=5 --file-allocation=none --keep-unfinished-download-result=false -c --download-result=full\n",
        "#Upscalers\n",
        "#!aria2c \"download-link\" -d \"/content/CUI/models/upscale_models\" --summary-interval=5 --file-allocation=none --keep-unfinished-download-result=false -c --download-result=full\n",
        "#VAE\n",
        "#!aria2c \"download-link\" -d \"/content/CUI/models/vae\" --summary-interval=5 --file-allocation=none --keep-unfinished-download-result=false -c --download-result=full"
      ],
      "metadata": {
        "_uuid": "3df625d2-1709-4113-90a3-1ef10b4d0044",
        "_cell_guid": "f986a914-babc-4ca6-a55c-8238e428ba71",
        "jupyter": {
          "outputs_hidden": false
        },
        "execution": {
          "iopub.status.busy": "2023-12-27T12:36:42.738247Z",
          "iopub.execute_input": "2023-12-27T12:36:42.738638Z",
          "iopub.status.idle": "2023-12-27T12:36:47.934974Z",
          "shell.execute_reply.started": "2023-12-27T12:36:42.738599Z",
          "shell.execute_reply": "2023-12-27T12:36:47.933863Z"
        },
        "trusted": true,
        "id": "YuIdbl-tPhDp"
      },
      "execution_count": null,
      "outputs": []
    },
    {
      "cell_type": "code",
      "source": [
        "#NGROK\n",
        "\n",
        "%cd \"/content/CUI\"\n",
        "\n",
        "from pyngrok import ngrok\n",
        "\n",
        "ngrok.set_auth_token(\"your-ngrok-auth-token\")\n",
        "\n",
        "import subprocess\n",
        "import threading\n",
        "import time\n",
        "import socket\n",
        "import urllib.request\n",
        "\n",
        "def iframe_thread(port):\n",
        "    while True:\n",
        "        time.sleep(0.5)\n",
        "        sock = socket.socket(socket.AF_INET, socket.SOCK_STREAM)\n",
        "        result = sock.connect_ex(('127.0.0.1', port))\n",
        "        if result == 0:\n",
        "            break\n",
        "        sock.close()\n",
        "    print(\"\\nComfyUI finished loading, trying to launch ngrok (if it gets stuck here ngrok is having issues)\\n\")\n",
        "\n",
        "    public_url = ngrok.connect(port)\n",
        "    print(f\"Ngrok tunnel is live at: {public_url}\")\n",
        "\n",
        "threading.Thread(target=iframe_thread, daemon=True, args=(8188,)).start()\n",
        "\n",
        "!python main.py \\\n",
        "    --dont-print-server"
      ],
      "metadata": {
        "_uuid": "58f98553-8fd9-4c49-b54f-353770f0e2d6",
        "_cell_guid": "3a20d09c-3930-464d-a163-138aba9ad188",
        "jupyter": {
          "outputs_hidden": false
        },
        "execution": {
          "iopub.status.busy": "2023-12-27T12:36:47.936414Z",
          "iopub.execute_input": "2023-12-27T12:36:47.936723Z"
        },
        "trusted": true,
        "id": "yUts3VXmPhDq"
      },
      "execution_count": null,
      "outputs": []
    }
  ]
}
