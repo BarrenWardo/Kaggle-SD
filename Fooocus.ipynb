{
  "nbformat": 4,
  "nbformat_minor": 0,
  "metadata": {
    "colab": {
      "private_outputs": true,
      "provenance": [],
      "gpuType": "T4",
      "mount_file_id": "1LIPXye3_u5GtQ16UwyghI9g-gNbkFno4",
      "authorship_tag": "ABX9TyPS25p4N/DP3Zr4p437cG2Q",
      "include_colab_link": true
    },
    "kernelspec": {
      "name": "python3",
      "display_name": "Python 3"
    },
    "language_info": {
      "name": "python"
    },
    "accelerator": "GPU"
  },
  "cells": [
    {
      "cell_type": "markdown",
      "metadata": {
        "id": "view-in-github",
        "colab_type": "text"
      },
      "source": [
        "<a href=\"https://colab.research.google.com/github/BarrenWardo/Py-Books/blob/main/Fooocus.ipynb\" target=\"_parent\"><img src=\"https://colab.research.google.com/assets/colab-badge.svg\" alt=\"Open In Colab\"/></a>"
      ]
    },
    {
      "cell_type": "code",
      "source": [
        "%cd \"/content/drive/Shareddrives/Temp\""
      ],
      "metadata": {
        "id": "n8FLgsDX-pu8"
      },
      "execution_count": null,
      "outputs": []
    },
    {
      "cell_type": "code",
      "source": [
        "!git clone https://github.com/lllyasviel/Fooocus.git"
      ],
      "metadata": {
        "id": "RZ_UQJ8R-5CI"
      },
      "execution_count": null,
      "outputs": []
    },
    {
      "cell_type": "code",
      "source": [
        "#%cd \"/content/drive/Shareddrives/HL CLOUD #002791/BW/Fooocus\"\n",
        "%cd \"Fooocus\"\n",
        "!pip install -r requirements_versions.txt"
      ],
      "metadata": {
        "id": "XalvWNEa--YU"
      },
      "execution_count": null,
      "outputs": []
    },
    {
      "cell_type": "code",
      "source": [
        "!python entry_with_update.py --share\n",
        "#!python entry_with_update.py --share --preset anime\n",
        "#!python entry_with_update.py --share --preset realistic"
      ],
      "metadata": {
        "id": "SdMxmjlndRnk"
      },
      "execution_count": null,
      "outputs": []
    }
  ]
}