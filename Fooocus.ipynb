{
  "nbformat": 4,
  "nbformat_minor": 0,
  "metadata": {
    "colab": {
      "private_outputs": true,
      "provenance": [],
      "gpuType": "T4",
      "mount_file_id": "1LIPXye3_u5GtQ16UwyghI9g-gNbkFno4",
      "authorship_tag": "ABX9TyM1dTgI+aUU3Ep6EUiH5QuZ",
      "include_colab_link": true
    },
    "kernelspec": {
      "name": "python3",
      "display_name": "Python 3"
    },
    "language_info": {
      "name": "python"
    },
    "accelerator": "GPU"
  },
  "cells": [
    {
      "cell_type": "markdown",
      "metadata": {
        "id": "view-in-github",
        "colab_type": "text"
      },
      "source": [
        "<a href=\"https://colab.research.google.com/github/BarrenWardo/Py-Books/blob/main/Fooocus.ipynb\" target=\"_parent\"><img src=\"https://colab.research.google.com/assets/colab-badge.svg\" alt=\"Open In Colab\"/></a>"
      ]
    },
    {
      "cell_type": "markdown",
      "source": [
        "# **Fooocus**\n",
        "By Barren Wardo"
      ],
      "metadata": {
        "id": "e2wF8Wcnw-er"
      }
    },
    {
      "cell_type": "markdown",
      "source": [
        "## Installation"
      ],
      "metadata": {
        "id": "8tHrlyfqxMlr"
      }
    },
    {
      "cell_type": "code",
      "source": [
        "!git clone https://github.com/BarrenWardo/Fooocus.git"
      ],
      "metadata": {
        "id": "RZ_UQJ8R-5CI"
      },
      "execution_count": null,
      "outputs": []
    },
    {
      "cell_type": "code",
      "source": [
        "%cd \"/content/Fooocus\"\n",
        "\n",
        "!npm install -g localtunnel\n",
        "\n",
        "!pip install -r requirements_versions.txt"
      ],
      "metadata": {
        "id": "XalvWNEa--YU"
      },
      "execution_count": null,
      "outputs": []
    },
    {
      "cell_type": "markdown",
      "source": [
        "---\n",
        "## Run"
      ],
      "metadata": {
        "id": "Z_kGky1gxdnF"
      }
    },
    {
      "cell_type": "markdown",
      "source": [
        "### Gradio Launch"
      ],
      "metadata": {
        "id": "IQKv21Ioxw-a"
      }
    },
    {
      "cell_type": "code",
      "source": [
        "%cd \"/content/Fooocus\"\n",
        "!python entry_with_update.py --share --always-high-vram"
      ],
      "metadata": {
        "id": "SdMxmjlndRnk"
      },
      "execution_count": null,
      "outputs": []
    },
    {
      "cell_type": "markdown",
      "source": [
        "### Localtunnel Launch"
      ],
      "metadata": {
        "id": "e-NTyggkx4Lk"
      }
    },
    {
      "cell_type": "code",
      "source": [
        "%cd \"/content/Fooocus\"\n",
        "\n",
        "import subprocess\n",
        "import threading\n",
        "import time\n",
        "import socket\n",
        "import urllib.request\n",
        "\n",
        "def iframe_thread(port):\n",
        "  while True:\n",
        "      time.sleep(0.5)\n",
        "      sock = socket.socket(socket.AF_INET, socket.SOCK_STREAM)\n",
        "      result = sock.connect_ex(('127.0.0.1', port))\n",
        "      if result == 0:\n",
        "        break\n",
        "      sock.close()\n",
        "  print(\"\\nFooocus finished loading, trying to launch localtunnel (if it gets stuck here localtunnel is having issues)\\n\")\n",
        "\n",
        "  print(\"The password/enpoint ip for localtunnel is:\", urllib.request.urlopen('https://ipv4.icanhazip.com').read().decode('utf8').strip(\"\\n\"))\n",
        "  p = subprocess.Popen([\"lt\", \"--port\", \"{}\".format(port)], stdout=subprocess.PIPE)\n",
        "  for line in p.stdout:\n",
        "    print(line.decode(), end='')\n",
        "\n",
        "\n",
        "threading.Thread(target=iframe_thread, daemon=True, args=(7865,)).start()\n",
        "\n",
        "!python entry_with_update.py --always-high-vram"
      ],
      "metadata": {
        "id": "h1OSCazRwW5m"
      },
      "execution_count": null,
      "outputs": []
    }
  ]
}